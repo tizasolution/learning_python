{
 "nbformat": 4,
 "nbformat_minor": 2,
 "metadata": {
  "language_info": {
   "name": "python",
   "codemirror_mode": {
    "name": "ipython",
    "version": 3
   },
   "version": "3.7.3-final"
  },
  "orig_nbformat": 2,
  "file_extension": ".py",
  "mimetype": "text/x-python",
  "name": "python",
  "npconvert_exporter": "python",
  "pygments_lexer": "ipython3",
  "version": 3,
  "kernelspec": {
   "name": "python37364bitd4f6917ca5d44325a538f583311bc6f7",
   "display_name": "Python 3.7.3 64-bit"
  }
 },
 "cells": [
  {
   "cell_type": "code",
   "execution_count": 2,
   "metadata": {},
   "outputs": [
    {
     "output_type": "stream",
     "name": "stdout",
     "text": "{'name': 'Teh Botol', 'price': 12000}\nTeh Botol\n"
    }
   ],
   "source": [
    "class Product:\n",
    "    pass\n",
    "\n",
    "\n",
    "product1 = Product()\n",
    "product2 = Product()\n",
    "product3 = Product()\n",
    "\n",
    "product1.name = \"Teh Botol\"\n",
    "product1.price = 12000\n",
    "\n",
    "product2.name = \"Teh Kotak\"\n",
    "product2.price = 15000\n",
    "\n",
    "product3.name = \"Kopi Susu\"\n",
    "product3.price = 17000\n",
    "\n",
    "print(product1.__dict__)\n",
    "print(product1.name)\n",
    ""
   ]
  },
  {
   "cell_type": "code",
   "execution_count": 4,
   "metadata": {},
   "outputs": [
    {
     "output_type": "stream",
     "name": "stdout",
     "text": "Hallo\nHallo\n"
    }
   ],
   "source": [
    "class Product:\n",
    "\n",
    "    def __init__(self):\n",
    "        print(\"Hallo\")\n",
    "\n",
    "\n",
    "product1 = Product()\n",
    "product2 = Product()\n",
    ""
   ]
  },
  {
   "cell_type": "code",
   "execution_count": 5,
   "metadata": {},
   "outputs": [
    {
     "output_type": "stream",
     "name": "stdout",
     "text": "{'name': 'Teh Botol', 'price': 15000}\n{'name': 'Teh Kotak', 'price': 12000}\n"
    }
   ],
   "source": [
    "class Product:\n",
    "\n",
    "    def __init__(self,name,price):\n",
    "        self.name = name\n",
    "        self.price = price \n",
    "\n",
    "product1 = Product(\"Teh Botol\",15000)\n",
    "product2 = Product(\"Teh Kotak\",12000)\n",
    "\n",
    "print(product1.__dict__)\n",
    "print(product2.__dict__)\n",
    ""
   ]
  }
 ]
}