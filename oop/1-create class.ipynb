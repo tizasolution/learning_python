{
 "nbformat": 4,
 "nbformat_minor": 2,
 "metadata": {
  "language_info": {
   "name": "python",
   "codemirror_mode": {
    "name": "ipython",
    "version": 3
   },
   "version": "3.7.3-final"
  },
  "orig_nbformat": 2,
  "file_extension": ".py",
  "mimetype": "text/x-python",
  "name": "python",
  "npconvert_exporter": "python",
  "pygments_lexer": "ipython3",
  "version": 3,
  "kernelspec": {
   "name": "python37364bitd4f6917ca5d44325a538f583311bc6f7",
   "display_name": "Python 3.7.3 64-bit"
  }
 },
 "cells": [
  {
   "cell_type": "code",
   "execution_count": 12,
   "metadata": {},
   "outputs": [
    {
     "output_type": "error",
     "ename": "AttributeError",
     "evalue": "'Product' object has no attribute 'getstock'",
     "traceback": [
      "\u001b[0;31m---------------------------------------------------------------------------\u001b[0m",
      "\u001b[0;31mAttributeError\u001b[0m                            Traceback (most recent call last)",
      "\u001b[0;32m<ipython-input-12-bcdbf22385c5>\u001b[0m in \u001b[0;36m<module>\u001b[0;34m\u001b[0m\n\u001b[1;32m     10\u001b[0m \u001b[0mproduct1\u001b[0m\u001b[0;34m.\u001b[0m\u001b[0mkategori\u001b[0m \u001b[0;34m=\u001b[0m \u001b[0;34m\"Minuman\"\u001b[0m\u001b[0;34m\u001b[0m\u001b[0;34m\u001b[0m\u001b[0m\n\u001b[1;32m     11\u001b[0m \u001b[0mproduct1\u001b[0m\u001b[0;34m.\u001b[0m\u001b[0mstock\u001b[0m \u001b[0;34m=\u001b[0m \u001b[0;36m20\u001b[0m\u001b[0;34m\u001b[0m\u001b[0;34m\u001b[0m\u001b[0m\n\u001b[0;32m---> 12\u001b[0;31m \u001b[0mproduct1\u001b[0m\u001b[0;34m.\u001b[0m\u001b[0mgetstock\u001b[0m\u001b[0;34m(\u001b[0m\u001b[0;34m)\u001b[0m\u001b[0;34m\u001b[0m\u001b[0;34m\u001b[0m\u001b[0m\n\u001b[0m\u001b[1;32m     13\u001b[0m \u001b[0;34m\u001b[0m\u001b[0m\n\u001b[1;32m     14\u001b[0m \u001b[0mproduct2\u001b[0m\u001b[0;34m.\u001b[0m\u001b[0mname\u001b[0m \u001b[0;34m=\u001b[0m \u001b[0;34m\"Teh Kotak\"\u001b[0m\u001b[0;34m\u001b[0m\u001b[0;34m\u001b[0m\u001b[0m\n",
      "\u001b[0;31mAttributeError\u001b[0m: 'Product' object has no attribute 'getstock'"
     ]
    }
   ],
   "source": [
    "class Product:\n",
    "    pass\n",
    "\n",
    "product1 = Product()\n",
    "product2 = Product()\n",
    "product3 = Product()\n",
    "\n",
    "product1.name = \"Teh Botol\"\n",
    "product1.price = 12000\n",
    "product1.kategori = \"Minuman\"\n",
    "product1.stock = 20\n",
    "\n",
    "product2.name = \"Teh Kotak\"\n",
    "product2.price = 15000\n",
    "\n",
    "product3.name = \"Kopi Susu\"\n",
    "product3.price = 17000\n",
    "\n",
    "print(product1.__dict__)\n",
    "print(product1.name)\n",
    "\n",
    "print(product2.__dict__)\n",
    "print(product2.name)\n",
    "\n",
    "print(product3.__dict__)\n",
    "print(product3.name)\n",
    "\n"
   ]
  },
  {
   "cell_type": "code",
   "execution_count": 14,
   "metadata": {},
   "outputs": [
    {
     "output_type": "stream",
     "name": "stdout",
     "text": "Hallo Dunia\nHallo Dunia\n"
    }
   ],
   "source": [
    "# public class Product{\n",
    "#     Product(){\n",
    "\n",
    "#     }\n",
    "# }\n",
    "\n",
    "class Product:\n",
    "\n",
    "    def __init__(self):\n",
    "        print(\"Hallo Dunia\")\n",
    "\n",
    "\n",
    "product1 = Product()\n",
    "product2 = Product()\n"
   ]
  },
  {
   "cell_type": "code",
   "execution_count": 19,
   "metadata": {},
   "outputs": [
    {
     "output_type": "stream",
     "name": "stdout",
     "text": "{'name': 'Teh Botol', 'price': 15000, 'kategori': 'Teh', 'stock': 10}\n{\"name\": \"Teh Botol\", \"price\": 15000, \"kategori\": \"Teh\", \"stock\": 10}\n"
    }
   ],
   "source": [
    "import json\n",
    "class Product:\n",
    "\n",
    "    def __init__(self,name,price,kategori,stock):\n",
    "        self.name = name\n",
    "        self.price = price \n",
    "        self.kategori = kategori\n",
    "        self.stock = stock\n",
    "\n",
    "product1 = Product(\"Teh Botol\",15000,\"Teh\",10)\n",
    "product2 = Product(\"Teh Kotak\",12000,\"Teh\",5)\n",
    "product3 = Product(\"Kopi Susu\",15000,\"Kopi\",4)\n",
    "\n",
    "\n",
    "\n",
    "print(product1.__dict__)\n",
    "print(json.dumps(product1.__dict__))\n"
   ]
  },
  {
   "cell_type": "code",
   "execution_count": 25,
   "metadata": {},
   "outputs": [
    {
     "output_type": "stream",
     "name": "stdout",
     "text": "3\n"
    }
   ],
   "source": [
    "import json\n",
    "class Product:\n",
    "\n",
    "    def __init__(self,name,price,kategori,stock):\n",
    "        self.name = name\n",
    "        self.price = price \n",
    "        self.kategori = kategori\n",
    "        self.stock = stock\n",
    "\n",
    "product1 = Product(\"Teh Botol\",15000,\"Teh\",10)\n",
    "product2 = Product(\"Teh Kotak\",12000,\"Teh\",5)\n",
    "product3 = Product(\"Kopi Susu\",15000,\"Kopi\",4)\n",
    "\n",
    "productlist = []\n",
    "productlist.append(product1)\n",
    "productlist.append(product2)\n",
    "productlist.append(product3)\n",
    "\n",
    "print(len(productlist))"
   ]
  },
  {
   "cell_type": "code",
   "execution_count": 26,
   "metadata": {},
   "outputs": [
    {
     "output_type": "stream",
     "name": "stdout",
     "text": "{'nama': 'Sony', 'email': 'sonyse@yyy.tho', 'hp': '0833080399', 'alamat': 'askdja laksdalskdj'}\n{'nama': 'Diki', 'email': 'diki@yyy.tho', 'hp': '0129312039', 'alamat': 'askdjsfsfa laksdalskdj'}\n"
    }
   ],
   "source": [
    "class Pembeli:\n",
    "\n",
    "    def __init__(self,nama,email,hp,alamat):\n",
    "        self.nama = nama\n",
    "        self.email = email \n",
    "        self.hp = hp\n",
    "        self.alamat = alamat \n",
    "\n",
    "pembeli1 = Pembeli(\"Sony\",\"sonyse@yyy.tho\",\"0833080399\",\"askdja laksdalskdj\")\n",
    "pembeli2 = Pembeli(\"Diki\",\"diki@yyy.tho\",\"0129312039\",\"askdjsfsfa laksdalskdj\")\n",
    "\n",
    "print(pembeli1.__dict__)\n",
    "print(pembeli2.__dict__)\n",
    ""
   ]
  }
 ]
}