{
 "nbformat": 4,
 "nbformat_minor": 2,
 "metadata": {
  "language_info": {
   "name": "python",
   "codemirror_mode": {
    "name": "ipython",
    "version": 3
   },
   "version": "3.7.3-final"
  },
  "orig_nbformat": 2,
  "file_extension": ".py",
  "mimetype": "text/x-python",
  "name": "python",
  "npconvert_exporter": "python",
  "pygments_lexer": "ipython3",
  "version": 3,
  "kernelspec": {
   "name": "python37364bitd4f6917ca5d44325a538f583311bc6f7",
   "display_name": "Python 3.7.3 64-bit"
  }
 },
 "cells": [
  {
   "cell_type": "code",
   "execution_count": 5,
   "metadata": {},
   "outputs": [
    {
     "output_type": "stream",
     "name": "stdout",
     "text": "{'name': 'Teh Botol', 'price': 15000}\n{'name': 'Teh Kotak', 'price': 12000}\nTeh Kotak\nTeh Botol\n"
    }
   ],
   "source": [
    "class Product:\n",
    "    id = 0\n",
    "\n",
    "    def __init__(self,name,price):\n",
    "        self.name = name\n",
    "        self.price = price\n",
    "        Product.id += 1\n",
    "        \n",
    "product1 = Product(\"Teh Botol\",15000)\n",
    "product2 = Product(\"Teh Kotak\",12000)\n",
    "\n",
    "print(product1.__dict__)\n",
    "print(product2.__dict__)\n",
    "\n",
    "print(product2.name)\n",
    "print(product1.name)\n",
    "\n",
    ""
   ]
  }
 ]
}