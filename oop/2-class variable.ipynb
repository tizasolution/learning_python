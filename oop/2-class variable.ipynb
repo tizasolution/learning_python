{
 "nbformat": 4,
 "nbformat_minor": 2,
 "metadata": {
  "language_info": {
   "name": "python",
   "codemirror_mode": {
    "name": "ipython",
    "version": 3
   },
   "version": "3.7.3-final"
  },
  "orig_nbformat": 2,
  "file_extension": ".py",
  "mimetype": "text/x-python",
  "name": "python",
  "npconvert_exporter": "python",
  "pygments_lexer": "ipython3",
  "version": 3,
  "kernelspec": {
   "name": "python37364bitd4f6917ca5d44325a538f583311bc6f7",
   "display_name": "Python 3.7.3 64-bit"
  }
 },
 "cells": [
  {
   "cell_type": "code",
   "execution_count": 4,
   "metadata": {},
   "outputs": [
    {
     "output_type": "stream",
     "name": "stdout",
     "text": "Teh Kotak\n12500\n"
    }
   ],
   "source": [
    "class Product:\n",
    "    name = \"\"\n",
    "    price = 0\n",
    "\n",
    "    def __init__(self,name,price):\n",
    "        self.name = name\n",
    "        self.price = price\n",
    "        \n",
    "\n",
    "product1 = Product(\"Teh Kotak\",12500)\n",
    "product2 = Product(\"Teh susu\",16000)\n",
    "\n",
    "print(product1.name)\n",
    "print(product1.price)\n",
    "\n",
    ""
   ]
  },
  {
   "cell_type": "code",
   "execution_count": 9,
   "metadata": {},
   "outputs": [
    {
     "output_type": "stream",
     "name": "stdout",
     "text": "Teh Kotak\n15000\nTeh Susu\n17500\n"
    }
   ],
   "source": [
    "class Product:\n",
    "    name = \"\"\n",
    "    price = 0\n",
    "\n",
    "    def __init__(self):\n",
    "        self.name = \"\"\n",
    "        self.price = 0\n",
    "        \n",
    "product1 = Product()\n",
    "product2 = Product()\n",
    "\n",
    "product1.name = \"Teh Kotak\"\n",
    "product2.name = \"Teh Susu\"\n",
    "product1.price = 15000\n",
    "product2.price = 17500\n",
    "\n",
    "print(product1.name)\n",
    "print(product1.price)\n",
    "\n",
    "print(product2.name)\n",
    "print(product2.price)\n"
   ]
  }
 ]
}