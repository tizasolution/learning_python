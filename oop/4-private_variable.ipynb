{
 "nbformat": 4,
 "nbformat_minor": 2,
 "metadata": {
  "language_info": {
   "name": "python",
   "codemirror_mode": {
    "name": "ipython",
    "version": 3
   },
   "version": "3.7.3-final"
  },
  "orig_nbformat": 2,
  "file_extension": ".py",
  "mimetype": "text/x-python",
  "name": "python",
  "npconvert_exporter": "python",
  "pygments_lexer": "ipython3",
  "version": 3,
  "kernelspec": {
   "name": "python37364bitd4f6917ca5d44325a538f583311bc6f7",
   "display_name": "Python 3.7.3 64-bit"
  }
 },
 "cells": [
  {
   "cell_type": "code",
   "execution_count": 2,
   "metadata": {},
   "outputs": [
    {
     "output_type": "stream",
     "name": "stdout",
     "text": "Teh Kotak\n2\nTeh Botol\n1\n"
    },
    {
     "output_type": "execute_result",
     "data": {
      "text/plain": "0"
     },
     "metadata": {},
     "execution_count": 2
    }
   ],
   "source": [
    "import json\n",
    "keranjang_belanja = []\n",
    "\n",
    "class Product:\n",
    "    id = 0\n",
    "    keranjang_belanja = []\n",
    "    def __init__(self,name,price):\n",
    "        self.name = name\n",
    "        self.price = price\n",
    "        Product.id += 1\n",
    "        \n",
    "    def find_product_service(self,name):\n",
    "        product1 = Product(\"Teh Botol\",15000)\n",
    "        product2 = Product(\"Teh Kotak\",12000)\n",
    "\n",
    "\n",
    "        if (product1.name == name):\n",
    "            return product1\n",
    "        if (product2.name == name):\n",
    "            return product2 \n",
    "\n",
    "        return None\n",
    "    \n",
    "    def buy_product_service(self,name,qty):\n",
    "        product1 = Product(\"Teh Botol\",15000)\n",
    "        product2 = Product(\"Teh Kotak\",12000)\n",
    "\n",
    "        product_dibeli = None\n",
    "\n",
    "        if (product1.name == name):\n",
    "            product_dibeli = product1\n",
    "            hasil_beli = [(product_dibeli,qty)]\n",
    "            self.tambah_keranjang_belanja(hasil_beli)\n",
    "            return hasil_beli\n",
    "        if (product2.name == name):\n",
    "            product_dibeli = product2\n",
    "            hasil_beli = [(product_dibeli,qty)]\n",
    "            self.tambah_keranjang_belanja(hasil_beli)\n",
    "            return hasil_beli\n",
    "\n",
    "        return None\n",
    "    \n",
    "\n",
    "    def tambah_keranjang_belanja(hasil_beli):\n",
    "        keranjang_belanja.append(hasil_beli)\n",
    "\n",
    "\n",
    "result = Product.buy_product_service(Product,name=\"Teh Kotak\",qty=2)\n",
    "if (result):\n",
    "    product = result[0][0]\n",
    "    print(product.name)\n",
    "    print(result[0][1])\n",
    "else:\n",
    "    print(\"tidak ketemu\")\n",
    "\n",
    "\n",
    "result = Product.buy_product_service(Product,name=\"Teh Botol\",qty=1)\n",
    "if (result):\n",
    "    product = result[0][0]\n",
    "    print(product.name)\n",
    "    print(result[0][1])\n",
    "else:\n",
    "    print(\"tidak ketemu\")\n",
    "\n",
    "len(Product.keranjang_belanja)\n",
    "\n",
    "\n",
    ""
   ]
  }
 ]
}