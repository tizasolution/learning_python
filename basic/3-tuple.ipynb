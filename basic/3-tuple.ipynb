{
 "nbformat": 4,
 "nbformat_minor": 2,
 "metadata": {
  "language_info": {
   "name": "python",
   "codemirror_mode": {
    "name": "ipython",
    "version": 3
   },
   "version": "3.7.3-final"
  },
  "orig_nbformat": 2,
  "file_extension": ".py",
  "mimetype": "text/x-python",
  "name": "python",
  "npconvert_exporter": "python",
  "pygments_lexer": "ipython3",
  "version": 3,
  "kernelspec": {
   "name": "python37364bitd4f6917ca5d44325a538f583311bc6f7",
   "display_name": "Python 3.7.3 64-bit"
  }
 },
 "cells": [
  {
   "cell_type": "code",
   "execution_count": null,
   "metadata": {},
   "outputs": [],
   "source": []
  },
  {
   "cell_type": "code",
   "execution_count": 11,
   "metadata": {},
   "outputs": [
    {
     "output_type": "stream",
     "name": "stdout",
     "text": "('Teh Sosro', 'Teh Kotak', 'Kopi Susu', 'Kopi cucu', 'kopi jito')\n['Teh Sosro', 'Teh Kotak', 'Kopi Susu', 'Kopi cucu', 'kopi jito']\n('Teh Sosro', 'Teh Kotak', 'Kopi Susu', 'Kopi cucu', 'kopi jito')\n['Teh Sosro', 'Teh Kotak', 'Kopi Susu', 'Kopi cucu', 'kopi jito', ['kopi balok']]\n"
    }
   ],
   "source": [
    "#print(barang)\n",
    "#barang.remove(\"Teh Sosro\")\n",
    "#print(barang)\n",
    "#convert tuple into list\n",
    "\n",
    "print(barang)\n",
    "baranglist = list(barang)\n",
    "print(baranglist)\n",
    "\n",
    "barangtemp = [\"kopi balok\"]\n",
    "#barang.append(barangtemp)\n",
    "print(barang)\n",
    "\n",
    "baranglist.append(barangtemp)\n",
    "print(baranglist)"
   ]
  },
  {
   "cell_type": "code",
   "execution_count": 1,
   "metadata": {},
   "outputs": [
    {
     "output_type": "stream",
     "name": "stdout",
     "text": "('Teh Sosro', 'Teh Kotak', 'Kopi Susu', 'Kopi cucu', 'kopi jito')\n"
    }
   ],
   "source": [
    "barang = (\"Teh Sosro\",\"Teh Kotak\",\"Kopi Susu\",\"Kopi cucu\",\"kopi jito\")\n",
    "print(barang)\n",
    ""
   ]
  }
 ]
}