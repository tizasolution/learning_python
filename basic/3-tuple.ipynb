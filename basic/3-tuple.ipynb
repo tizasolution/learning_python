{
 "nbformat": 4,
 "nbformat_minor": 2,
 "metadata": {
  "language_info": {
   "name": "python",
   "codemirror_mode": {
    "name": "ipython",
    "version": 3
   },
   "version": "3.7.3-final"
  },
  "orig_nbformat": 2,
  "file_extension": ".py",
  "mimetype": "text/x-python",
  "name": "python",
  "npconvert_exporter": "python",
  "pygments_lexer": "ipython3",
  "version": 3,
  "kernelspec": {
   "name": "python37364bitd4f6917ca5d44325a538f583311bc6f7",
   "display_name": "Python 3.7.3 64-bit"
  }
 },
 "cells": [
  {
   "cell_type": "code",
   "execution_count": null,
   "metadata": {},
   "outputs": [],
   "source": []
  },
  {
   "cell_type": "code",
   "execution_count": 6,
   "metadata": {},
   "outputs": [
    {
     "output_type": "stream",
     "name": "stdout",
     "text": "[['Teh Sosro', 12000], ['Teh Kotak', 12300], ['Kopi Susu', 23000], ['Kopi cucu', 12400], ['kopi jito', 12500], ['kopi balok']]\n"
    }
   ],
   "source": [
    "#print(barang)\n",
    "#barang.remove(\"Teh Sosro\")\n",
    "#print(barang)\n",
    "#convert tuple into list\n",
    "# barang = [[\"Teh Sosro\",12000],[\"Teh Kotak\",12300],[\"Kopi Susu\",23000],[\"Kopi cucu\",12400],[\"kopi jito\",12500]]\n",
    "# # print(barang[2])\n",
    "# print(barang)\n",
    "\n",
    "\n",
    "# print(barang)\n",
    "# baranglist = list(barang)\n",
    "# print(baranglist)\n",
    "\n",
    "barangtemp = [\"kopi balok\"]\n",
    "barang.append(barangtemp)\n",
    "print(barang)\n",
    "\n",
    "# baranglist.append(barangtemp)\n",
    "# print(baranglist)"
   ]
  },
  {
   "cell_type": "code",
   "execution_count": 11,
   "metadata": {},
   "outputs": [
    {
     "output_type": "stream",
     "name": "stdout",
     "text": "<class 'list'>\n(('Teh Sosro', 12000), ('Teh Kotak', 12000), ('Kopi Susu', 12500), ('Kopi cucu', 25000), ('kopi jito', 24000))\n"
    }
   ],
   "source": [
    "barang = ((\"Teh Sosro\",12000),(\"Teh Kotak\",12000),(\"Kopi Susu\",12500),(\"Kopi cucu\",25000),(\"kopi jito\",24000))\n",
    "baranglist = list(barang)\n",
    "\n",
    "print(type(baranglist))\n",
    "print(barang)"
   ]
  }
 ]
}