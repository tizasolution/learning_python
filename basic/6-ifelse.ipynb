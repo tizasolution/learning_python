{
 "nbformat": 4,
 "nbformat_minor": 2,
 "metadata": {
  "language_info": {
   "name": "python",
   "codemirror_mode": {
    "name": "ipython",
    "version": 3
   },
   "version": "3.7.3-final"
  },
  "orig_nbformat": 2,
  "file_extension": ".py",
  "mimetype": "text/x-python",
  "name": "python",
  "npconvert_exporter": "python",
  "pygments_lexer": "ipython3",
  "version": 3,
  "kernelspec": {
   "name": "python37364bitd4f6917ca5d44325a538f583311bc6f7",
   "display_name": "Python 3.7.3 64-bit"
  }
 },
 "cells": [
  {
   "cell_type": "code",
   "execution_count": 2,
   "metadata": {},
   "outputs": [
    {
     "output_type": "stream",
     "name": "stdout",
     "text": "20000\n"
    }
   ],
   "source": [
    "jumlah_pembelian = 25\n",
    "harga_1 =20000\n",
    "harga_2 =25000\n",
    "#jika pembelian diatas 10 maka yang dipilih harga_1\n",
    "\n",
    "if (jumlah_pembelian > 10):\n",
    "    harga = harga_1\n",
    "else:\n",
    "    harga = harga_2\n",
    "print(harga)"
   ]
  },
  {
   "cell_type": "code",
   "execution_count": 4,
   "metadata": {},
   "outputs": [
    {
     "output_type": "stream",
     "name": "stdout",
     "text": "20000\n"
    }
   ],
   "source": [
    "#bentuk lain if\n",
    "harga = harga_1 if jumlah_pembelian > 10 else harga_2\n",
    "print(harga) \n",
    ""
   ]
  },
  {
   "cell_type": "code",
   "execution_count": 1,
   "metadata": {},
   "outputs": [
    {
     "output_type": "stream",
     "name": "stdout",
     "text": "Ada\n<class 'list'>\n"
    }
   ],
   "source": [
    "barang = [\"Teh Sosro\",\"Teh Kotak\",\"Kopi Susu\",\"Kopi cucu\",\"kopi jito\"]\n",
    "if (\"Kopi Susu\" in barang):\n",
    "    print(\"Ada\")\n",
    "else:\n",
    "    print(\"Tidak Ada\")\n",
    "print(type(barang))"
   ]
  },
  {
   "cell_type": "code",
   "execution_count": 2,
   "metadata": {},
   "outputs": [
    {
     "output_type": "stream",
     "name": "stdout",
     "text": "Ada\n<class 'tuple'>\n"
    }
   ],
   "source": [
    "barang = (\"Teh Sosro\",\"Teh Kotak\",\"Kopi Susu\",\"Kopi cucu\",\"kopi jito\")\n",
    "if (\"Kopi Susu\" in barang):\n",
    "    print(\"Ada\")\n",
    "else:\n",
    "    print(\"Tidak Ada\")\n",
    "print(type(barang))"
   ]
  },
  {
   "cell_type": "code",
   "execution_count": 3,
   "metadata": {},
   "outputs": [
    {
     "output_type": "stream",
     "name": "stdout",
     "text": "Ada\n<class 'set'>\n"
    }
   ],
   "source": [
    "barang = {\"Teh Sosro\",\"Teh Kotak\",\"Kopi Susu\",\"Kopi cucu\",\"kopi jito\"}\n",
    "if (\"Kopi Susu\" in barang):\n",
    "    print(\"Ada\")\n",
    "else:\n",
    "    print(\"Tidak Ada\")\n",
    "print(type(barang))"
   ]
  },
  {
   "cell_type": "code",
   "execution_count": 6,
   "metadata": {},
   "outputs": [
    {
     "output_type": "stream",
     "name": "stdout",
     "text": "Ada\n<class 'dict'>\n"
    }
   ],
   "source": [
    "barang = {1:\"Teh Sosro\",2:\"Teh Kotak\",3:\"Kopi Susu\",4:\"Kopi cucu\",5:\"kopi jito\"}\n",
    "if (\"Kopi Susu\" in barang.values()):\n",
    "    print(\"Ada\")\n",
    "else:\n",
    "    print(\"Tidak Ada\")\n",
    "print(type(barang))"
   ]
  },
  {
   "cell_type": "code",
   "execution_count": 115,
   "metadata": {},
   "outputs": [
    {
     "output_type": "stream",
     "name": "stdout",
     "text": "ada\n"
    }
   ],
   "source": [
    "#dengan 2 field\n",
    "import operator \n",
    "barang = [(\"Teh Sosro\",20000),(\"Teh Kotak\",2500),(\"Kopi Susu\",1500),(\"Kopi cucu\",3500),(\"Kopi jito\",16000)]\n",
    "items = operator.itemgetter(1)\n",
    "if(list(map(items,barang)).index(2500)):\n",
    "    print('ada')\n",
    "else:\n",
    "    print('tidak ada')"
   ]
  },
  {
   "cell_type": "code",
   "execution_count": 124,
   "metadata": {},
   "outputs": [
    {
     "output_type": "stream",
     "name": "stdout",
     "text": "2\n"
    }
   ],
   "source": [
    "import operator \n",
    "barang = [(\"Teh Sosro\",20000,\"teh\"),(\"Teh Kotak\",2500,\"teh\"),(\"Kopi Susu\",1500,\"kopi\"),(\"Kopi cucu\",3500,\"kopi\"),(\"Kopi jito\",16000,\"kopi\")]\n",
    "items = operator.itemgetter(2)\n",
    "print(list(map(items,barang)).index(\"kopi\"))\n",
    ""
   ]
  }
 ]
}