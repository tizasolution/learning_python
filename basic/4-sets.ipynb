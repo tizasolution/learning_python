{
 "nbformat": 4,
 "nbformat_minor": 2,
 "metadata": {
  "language_info": {
   "name": "python",
   "codemirror_mode": {
    "name": "ipython",
    "version": 3
   },
   "version": "3.7.3-final"
  },
  "orig_nbformat": 2,
  "file_extension": ".py",
  "mimetype": "text/x-python",
  "name": "python",
  "npconvert_exporter": "python",
  "pygments_lexer": "ipython3",
  "version": 3,
  "kernelspec": {
   "name": "python37364bitd4f6917ca5d44325a538f583311bc6f7",
   "display_name": "Python 3.7.3 64-bit"
  }
 },
 "cells": [
  {
   "cell_type": "code",
   "execution_count": 8,
   "metadata": {},
   "outputs": [
    {
     "output_type": "stream",
     "name": "stdout",
     "text": "['Teh Sosro', 'Teh Sosro', 'Teh Kotak', 'Kopi Susu', 'Kopi cucu', 'kopi jito']\n('Teh Sosro', 'Teh Sosro', 'Teh Kotak', 'Kopi Susu', 'Kopi cucu', 'kopi jito')\n{'Teh Sosro', 'kopi jito', 'Kopi Susu', 'Teh Kotak', 'Kopi cucu'}\n"
    }
   ],
   "source": [
    "# barang = {\"Teh Sosro\",\"Teh Kotak\",\"Kopi Susu\",\"Kopi cucu\",\"kopi jito\"}\n",
    "# print(barang)\n",
    "\n",
    "\n",
    "# barang.add(\"kopi Susu\") #tidak bisa double\n",
    "# print(barang)\n",
    "\n",
    "baranglist = [\"Teh Sosro\",\"Teh Sosro\",\"Teh Kotak\",\"Kopi Susu\",\"Kopi cucu\",\"kopi jito\"]\n",
    "print(baranglist)\n",
    "\n",
    "barangtuple = (\"Teh Sosro\",\"Teh Sosro\",\"Teh Kotak\",\"Kopi Susu\",\"Kopi cucu\",\"kopi jito\")\n",
    "print(barangtuple)\n",
    "\n",
    "barangset2 = set(barangtuple)\n",
    "print(barangset2)\n",
    "\n",
    "# barangset = set(baranglist)\n",
    "# print(barangset)\n",
    "# barang.add(\"kopi latte\")\n",
    "# print(barang)\n",
    "# barangset2 = set(barang)\n",
    "# print(barangset2)\n",
    "# type(barangset2)\n",
    "# type(barang)\n",
    "\n",
    "\n",
    ""
   ]
  },
  {
   "cell_type": "code",
   "execution_count": 27,
   "metadata": {},
   "outputs": [
    {
     "output_type": "stream",
     "name": "stdout",
     "text": "<class 'list'>\n['kopi tubruk', 'kopi latte', 'Kopi cucu', 'Kopi Susu', 'Teh Kotak', 'Teh Sosro', 'kopi jito']\n{'kopi tubruk', 'kopi latte', 'Kopi Susu', 'Kopi cucu', 'Teh Kotak', 'Teh Sosro', 'kopi jito'}\n<class 'set'>\n{'kopi jito', 'kopi latte', 'Kopi cucu', 'Kopi Susu', 'Teh Kotak', 'Teh Sosro'}\n{'kopi tubruk', 'kopi latte', 'Kopi Susu', 'Kopi cucu', 'Teh Kotak', 'Teh Sosro', 'kopi jito'}\n{'kopi tubruk', 'kopi latte', 'Kopi cucu', 'Kopi Susu', 'Teh Kotak', 'Teh Sosro', 'kopi jito'}\n{'kopi jito', 'kopi latte', 'Kopi cucu', 'Kopi Susu', 'Teh Kotak', 'Teh Sosro'}\n{'kopi tubruk', 'kopi latte', 'Kopi cucu', 'Kopi Susu', 'Teh Kotak', 'Teh Sosro', 'kopi jito'}\n"
    }
   ],
   "source": [
    "baranglist = list(barang)\n",
    "print(type(baranglist))\n",
    "print(baranglist)\n",
    "\n",
    "barangset3 = set(baranglist)\n",
    "print(barangset3)\n",
    "print(type(barangset3))\n",
    "print(barangset2)\n",
    "print(barangset3)\n",
    "\n",
    "barangset5 = barangset2.union(barangset3)\n",
    "print(barangset5)\n",
    "#barangset2.remove(\"kopi tubruk\")\n",
    "print(barangset2)\n",
    "\n",
    "barangset6 = barangset2.union(barangset5)\n",
    "print(barangset6) #hanya hapus "
   ]
  }
 ]
}