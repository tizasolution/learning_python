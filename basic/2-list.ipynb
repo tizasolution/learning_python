{
 "nbformat": 4,
 "nbformat_minor": 2,
 "metadata": {
  "language_info": {
   "name": "python",
   "codemirror_mode": {
    "name": "ipython",
    "version": 3
   },
   "version": "3.7.3-final"
  },
  "orig_nbformat": 2,
  "file_extension": ".py",
  "mimetype": "text/x-python",
  "name": "python",
  "npconvert_exporter": "python",
  "pygments_lexer": "ipython3",
  "version": 3,
  "kernelspec": {
   "name": "python37364bitd4f6917ca5d44325a538f583311bc6f7",
   "display_name": "Python 3.7.3 64-bit"
  }
 },
 "cells": [
  {
   "cell_type": "code",
   "execution_count": 2,
   "metadata": {},
   "outputs": [
    {
     "output_type": "stream",
     "name": "stdout",
     "text": "Teh Sosro Teh Kotak Kopi Susu \n"
    }
   ],
   "source": [
    "#ini kalau kondisi string 1 per 1\n",
    "barang_a = \"Teh Sosro \"\n",
    "barang_b = \"Teh Kotak \"\n",
    "barang_c = \"Kopi Susu \"\n",
    "print(barang_a + barang_b + barang_c)"
   ]
  },
  {
   "cell_type": "code",
   "execution_count": 6,
   "metadata": {},
   "outputs": [
    {
     "output_type": "stream",
     "name": "stdout",
     "text": "['Teh Sosro', 'Teh Sosro', 'Teh Kotak', 'Kopi Susu', 'Kopi cucu', 'kopi jito']\n"
    }
   ],
   "source": [
    "barang = [\"Teh Sosro\",\"Teh Sosro\",\"Teh Kotak\",\"Kopi Susu\",\"Kopi cucu\",\"kopi jito\"]\n",
    "print(barang)\n",
    "# print(type(barang))"
   ]
  },
  {
   "cell_type": "code",
   "execution_count": 4,
   "metadata": {},
   "outputs": [
    {
     "output_type": "stream",
     "name": "stdout",
     "text": "<built-in method count of list object at 0x106151788>\n"
    }
   ],
   "source": []
  },
  {
   "cell_type": "code",
   "execution_count": 7,
   "metadata": {},
   "outputs": [
    {
     "output_type": "stream",
     "name": "stdout",
     "text": "6\n"
    }
   ],
   "source": [
    "print(len(barang))"
   ]
  },
  {
   "cell_type": "code",
   "execution_count": 8,
   "metadata": {},
   "outputs": [
    {
     "output_type": "stream",
     "name": "stdout",
     "text": "Kopi Susu\n"
    }
   ],
   "source": [
    "barang = [[\"Teh Sosro\",12000],[\"Teh Kotak\",12300],[\"Kopi Susu\",23000,\"\"],[\"Kopi cucu\",12400],[\"kopi jito\",12500]]\n",
    "# print(barang[0])\n",
    "print(barang[2][0])"
   ]
  },
  {
   "cell_type": "code",
   "execution_count": 30,
   "metadata": {},
   "outputs": [
    {
     "output_type": "stream",
     "name": "stdout",
     "text": "[['Teh Sosro', 12000], ['Teh Kotak', 12300], ['Kopi Susu', 23000], ['Kopi cucu', 12400], ['kopi jito', 12500], ['americano', 19000]]\n"
    }
   ],
   "source": [
    "#nambah data\n",
    "newitem = [\"americano\",19000]\n",
    "barang.append(newitem)\n",
    "print(barang)"
   ]
  },
  {
   "cell_type": "code",
   "execution_count": 19,
   "metadata": {},
   "outputs": [
    {
     "output_type": "stream",
     "name": "stdout",
     "text": "[['Teh Kotak', 12300], ['Kopi Susu', 23000], ['Kopi cucu', 12400], ['kopi jito', 12500], ['americano', 19000], ['americano', 19000], ['americano', 19000]]\n"
    }
   ],
   "source": [
    "#hapus data di list\n",
    "barang.remove(['Teh Sosro', 12000])\n",
    "print(barang)"
   ]
  },
  {
   "cell_type": "code",
   "execution_count": 22,
   "metadata": {},
   "outputs": [
    {
     "output_type": "stream",
     "name": "stdout",
     "text": "[['Teh Kotak', 12300], ['Kopi Susu', 23000], ['Kopi cucu', 12400], ['americano', 19000]]\n"
    }
   ],
   "source": [
    "#hapus menggunakan index\n",
    "barang.pop(3)\n",
    "print(barang)"
   ]
  },
  {
   "cell_type": "code",
   "execution_count": 25,
   "metadata": {},
   "outputs": [
    {
     "output_type": "stream",
     "name": "stdout",
     "text": "[['Kopi Susu', 23000], ['Kopi cucu', 12400], ['americano', 19000]]\n"
    }
   ],
   "source": [
    "del barang[0]\n",
    "print(barang)"
   ]
  },
  {
   "cell_type": "code",
   "execution_count": 27,
   "metadata": {},
   "outputs": [
    {
     "output_type": "stream",
     "name": "stdout",
     "text": "[]\n"
    }
   ],
   "source": [
    "barang.clear()\n",
    "print(barang)"
   ]
  },
  {
   "cell_type": "code",
   "execution_count": 36,
   "metadata": {},
   "outputs": [
    {
     "output_type": "stream",
     "name": "stdout",
     "text": "[['Teh Sosro', 12000], ['Kopi Susu', 23000], ['Kopi cucu', 12400], ['kopi jito', 12500], ['americano', 19000]]\n[['Teh Sosro', 12000], ['Kopi Susu', 23000], ['Kopi cucu', 12400], ['kopi jito', 12500], ['americano', 19000]]\n[['Teh Sosro', 12000], ['Kopi cucu', 12400], ['kopi jito', 12500], ['americano', 19000]]\n[['Teh Sosro', 12000], ['Kopi cucu', 12400], ['kopi jito', 12500], ['americano', 19000]]\n"
    }
   ],
   "source": [
    "barangcopy = barang\n",
    "print(barangcopy)\n",
    "print(barang)\n",
    "\n",
    "#hapus barang \n",
    "hapus = barang.pop(1)\n",
    "print(barangcopy)\n",
    "print(barang)\n"
   ]
  },
  {
   "cell_type": "code",
   "execution_count": 39,
   "metadata": {},
   "outputs": [
    {
     "output_type": "stream",
     "name": "stdout",
     "text": "[['Kopi cucu', 12400], ['kopi jito', 12500], ['americano', 19000]]\n[['kopi jito', 12500], ['americano', 19000]]\n[['Kopi cucu', 12400], ['kopi jito', 12500], ['americano', 19000]]\n[['Kopi cucu', 12400], ['kopi jito', 12500], ['americano', 19000]]\n"
    }
   ],
   "source": [
    "print(barang)\n",
    "barangcopy2 = barang.copy()\n",
    "#copy tapi gak ngelink dengan list awalnya\n",
    "hapus2 = barang.pop(0)\n",
    "print(barang)\n",
    "print(barangcopy2)\n",
    "\n",
    "barangcopy3 = list(barangcopy2)\n",
    "print(barangcopy3)"
   ]
  },
  {
   "cell_type": "code",
   "execution_count": 40,
   "metadata": {},
   "outputs": [
    {
     "output_type": "stream",
     "name": "stdout",
     "text": "[['Kopi cucu', 12400], ['kopi jito', 12500], ['americano', 19000], ['Kopi cucu', 12400], ['kopi jito', 12500], ['americano', 19000]]\n"
    }
   ],
   "source": [
    "#join list\n",
    "barangcopy4 = barangcopy2 + barangcopy3\n",
    "print(barangcopy4)"
   ]
  },
  {
   "cell_type": "code",
   "execution_count": 48,
   "metadata": {},
   "outputs": [
    {
     "output_type": "stream",
     "name": "stdout",
     "text": "[['kopi jito', 12500], ['kopi jito', 12500], ['americano', 19000], ['americano', 19000], ['Kopi cucu', 12400], ['Kopi cucu', 12400]]\n"
    }
   ],
   "source": [
    "barangcopy4.sort(reverse=True)\n",
    "print(barangcopy4)"
   ]
  }
 ]
}