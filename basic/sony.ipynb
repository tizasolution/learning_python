{
 "cells": [
  {
   "cell_type": "code",
   "execution_count": 1,
   "metadata": {},
   "outputs": [
    {
     "output_type": "stream",
     "name": "stdout",
     "text": "Sony Setiawan\n"
    }
   ],
   "source": [
    "#Bahasan 1 perintah dasar yang umum dipake adalah bagaimana menampilkan informasi kedalam layar\n",
    "#karena prinsip dasar membuat aplikasi di komputer harus memenuhi 3 faktor :\n",
    "#1 Input --> diwakili oleh keyboard di pc (laptop,pc) \n",
    "#2 Processor --> diwakili oleh CPU (PC terpisah antara layar, cpu, keyboard) processor itu adalah CPU\n",
    "#3 Output --> diwakili oleh monitor / printer\n",
    "\n",
    "#Pengenalan perintah print dan variable\n",
    "#\n",
    "\n",
    "#1 Keluarkan di layar monitor anda nama anda masing-masing \n",
    "print('Sony Setiawan')"
   ]
  },
  {
   "cell_type": "code",
   "execution_count": 2,
   "metadata": {},
   "outputs": [
    {
     "output_type": "stream",
     "name": "stdout",
     "text": "48\n"
    }
   ],
   "source": [
    "#2 keluarkan di layar monitor berapa umur kamu sekarang\n",
    "print(48)"
   ]
  },
  {
   "cell_type": "code",
   "execution_count": 3,
   "metadata": {},
   "outputs": [
    {
     "output_type": "execute_result",
     "data": {
      "text/plain": "87"
     },
     "metadata": {},
     "execution_count": 3
    }
   ],
   "source": [
    "#di 2 contoh diatas ada 2 buah data yang mempunyai type data berbeda yang 1 adalah string atau character \n",
    "#yang satu lagi adalah integer numeric atau angka \n",
    "#sebagai contoh kita coba dengan menggunakan excel untuk melihat seperti apa type data angka dan character\n",
    "#Kedua type data ini tidak bisa digabungkan atau tidak bisa langsung digabungkan seperti contoh di excel tadi kenapa ?\n",
    "#Karena mempunyai bentukan di dalam komputer dengan type format yang berbeda \n",
    "#https://www.nesabamedia.com/pengertian-tipe-data/\n",
    "import sys\n",
    "sys.getsizeof('Aku lagi disini, kamu lagi dimana ? :)') #buat contoh untuk beberapa data"
   ]
  },
  {
   "cell_type": "code",
   "execution_count": 4,
   "metadata": {},
   "outputs": [
    {
     "output_type": "execute_result",
     "data": {
      "text/plain": "32"
     },
     "metadata": {},
     "execution_count": 4
    }
   ],
   "source": [
    "sys.getsizeof(1600000000000) #buat contoh untuk beberapa data"
   ]
  },
  {
   "cell_type": "code",
   "execution_count": 5,
   "metadata": {},
   "outputs": [
    {
     "output_type": "stream",
     "name": "stdout",
     "text": "Sony Setiawan\nSony Setiawan 48\n"
    }
   ],
   "source": [
    "#informasi diatas sebagai informasi bahwa type data dibahasa pemograman penting untuk dipahami diawal sebagai awal\n",
    "#mula dalam proses mempelajari coding, ini menjadi cikal bakal literasi coding\n",
    "\n",
    "#3 assigning variable\n",
    "namaorang = 'Sony Setiawan'\n",
    "print(namaorang)\n",
    "print(namaorang + ' 48')    \n",
    ""
   ]
  },
  {
   "cell_type": "code",
   "execution_count": 6,
   "metadata": {},
   "outputs": [
    {
     "output_type": "stream",
     "name": "stdout",
     "text": "Aku lagi disini, kamu lagi dimana ? :)\n"
    }
   ],
   "source": [
    "kalimat = 'Aku lagi disini, kamu lagi dimana ? :)'\n",
    "print(kalimat)"
   ]
  },
  {
   "cell_type": "code",
   "execution_count": 7,
   "metadata": {},
   "outputs": [],
   "source": [
    "#tugas "
   ]
  },
  {
   "cell_type": "code",
   "execution_count": 8,
   "metadata": {},
   "outputs": [],
   "source": [
    "#Buat variable namaorang isinya nama kalian kemudian buat baris"
   ]
  },
  {
   "cell_type": "code",
   "execution_count": 9,
   "metadata": {},
   "outputs": [
    {
     "output_type": "stream",
     "name": "stdout",
     "text": "Sony Setiawan\nKarawaci\n"
    }
   ],
   "source": [
    "#baru menampilkan variable alamat yang isinya alamat kalian\n",
    "namaorang = 'Sony Setiawan'\n",
    "alamat = 'Karawaci'\n",
    "print(namaorang)\n",
    "print(alamat)"
   ]
  },
  {
   "cell_type": "code",
   "execution_count": null,
   "metadata": {},
   "outputs": [],
   "source": []
  }
 ],
 "metadata": {
  "kernelspec": {
   "display_name": "Python 3",
   "language": "python",
   "name": "python3"
  },
  "language_info": {
   "codemirror_mode": {
    "name": "ipython",
    "version": 3
   },
   "file_extension": ".py",
   "mimetype": "text/x-python",
   "name": "python",
   "nbconvert_exporter": "python",
   "pygments_lexer": "ipython3",
   "version": "3.7.3-final"
  }
 },
 "nbformat": 4,
 "nbformat_minor": 4
}